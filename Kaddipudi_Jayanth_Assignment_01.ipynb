{
  "cells": [
    {
      "cell_type": "markdown",
      "metadata": {
        "id": "view-in-github",
        "colab_type": "text"
      },
      "source": [
        "<a href=\"https://colab.research.google.com/github/JayanthK99/Jayanth_INFO5731_Spring2025/blob/main/Kaddipudi_Jayanth_Assignment_01.ipynb\" target=\"_parent\"><img src=\"https://colab.research.google.com/assets/colab-badge.svg\" alt=\"Open In Colab\"/></a>"
      ]
    },
    {
      "cell_type": "markdown",
      "metadata": {
        "id": "Ryk8D1Q4Wsrp"
      },
      "source": [
        "# **INFO5731 Assignment - 1**"
      ]
    },
    {
      "cell_type": "markdown",
      "metadata": {
        "id": "qcP6re2g5A5r"
      },
      "source": [
        "This assignment includes range of programming tasks and data analysis exercises, aiming to enhance your Python skills and proficiency in string manipulation, numerical computations, and data science. Follow the instructions carefully and design well-structured Python programs to address each question.\n",
        "\n",
        "\n",
        "1.  Question 1-5 using AI assistance is strictly prohibted\n",
        "2.  Question 6-7 AI assitance is recommended by following guidelines.\n",
        "\n",
        "Guidelines and expectations file can be found in week 2 module.\n",
        "\n",
        "Late Submission will have a penalty of 10% reduction for each day after the deadline."
      ]
    },
    {
      "cell_type": "markdown",
      "metadata": {
        "id": "JkzR8cFAyGik"
      },
      "source": [
        "# Question 1 (10 points).\n",
        "\n",
        "The formula that describes the volume V of a hemisphere with radius r is the following:\n",
        "\n",
        "$ V=\\frac{2}{3}\\ast\\ \\pi\\ast\\ r^3 $\n",
        "\n",
        "Write a program to calculate the value of V when r is in the range of even numbers from 1-20. Output the result in the following format:\n",
        "\n",
        "\tr\tV\n",
        "\t2\t…\n",
        "\t4\t…\n",
        "\t6\t…\n",
        "\t.\n",
        "\t.\n",
        "\t.\n",
        "\t20\t…\n"
      ]
    },
    {
      "cell_type": "code",
      "execution_count": null,
      "metadata": {
        "colab": {
          "base_uri": "https://localhost:8080/"
        },
        "id": "jDyTKYs-yGit",
        "outputId": "d36be0c3-c58a-4064-b1af-0cc76914a0d4"
      },
      "outputs": [
        {
          "output_type": "stream",
          "name": "stdout",
          "text": [
            "2 16.76\n",
            "4 134.04\n",
            "6 452.39\n",
            "8 1072.33\n",
            "10 2094.4\n",
            "12 3619.11\n",
            "14 5747.02\n",
            "16 8578.64\n",
            "18 12214.51\n",
            "20 16755.16\n"
          ]
        }
      ],
      "source": [
        "# Your code here\n",
        "import math\n",
        "print = __builtins__.print\n",
        "for r in range(2, 21, 2):\n",
        "    V = (2/3) * math.pi * r**3\n",
        "    print(r, round(V, 2))\n"
      ]
    },
    {
      "cell_type": "markdown",
      "metadata": {
        "id": "90_NR8c5XGWc"
      },
      "source": [
        "# Question 2 (10 points)\n",
        "\n",
        "(a) Write a Python program to generate a sequence of 12 random numbers falling within the range of 50 to 150.\n",
        "\n",
        "(b) Arrange the generated numbers in ascending order. Display the sorted list.\n",
        "\n",
        "(c) Extend the program to arrange the numbers in descending order as well. Present the sorted list accordingly.\n",
        "\n",
        "(d) Compute and output the average of the entire group of generated numbers.\n",
        "\n",
        "(e) Enhance the program to calculate and display the average of the first 6 numbers from both the ascending and descending sorted lists."
      ]
    },
    {
      "cell_type": "code",
      "execution_count": null,
      "metadata": {
        "colab": {
          "base_uri": "https://localhost:8080/"
        },
        "id": "QJAowzIuceKn",
        "outputId": "7614eed2-2521-4e07-c825-3265839b2a58"
      },
      "outputs": [
        {
          "output_type": "stream",
          "name": "stdout",
          "text": [
            "[107, 149, 80, 137, 137, 122, 138, 62, 107, 138, 144, 110]\n",
            "[62, 80, 107, 107, 110, 122, 137, 137, 138, 138, 144, 149]\n",
            "[149, 144, 138, 138, 137, 137, 122, 110, 107, 107, 80, 62]\n",
            "119.25\n",
            "Average of Ascending order 588\n",
            "Average of Descending order 843\n"
          ]
        }
      ],
      "source": [
        "import random\n",
        "\n",
        "rand_numbers = [random.randint(50, 150) for rand_numbers in range(12)]\n",
        "print(rand_numbers)\n",
        "\n",
        "Ascend_num=sorted(rand_numbers)\n",
        "print(Ascend_num)\n",
        "\n",
        "Desc_num= sorted(rand_numbers, reverse=True)\n",
        "print(Desc_num)\n",
        "\n",
        "print(sum(rand_numbers) / len(rand_numbers))\n",
        "\n",
        "print(\"Average of Ascending order\", sum(Ascend_num[:6]) )\n",
        "print( \"Average of Descending order\",sum(Desc_num[:6]) )\n"
      ]
    },
    {
      "cell_type": "markdown",
      "metadata": {
        "id": "1F_PZdH9Sh49"
      },
      "source": [
        "# Question 3 (10 points).\n",
        "\n",
        "Create a Python program that encompasses various string manipulation task:\n",
        "\n",
        "(a) Prompt the user to input two sentences.\n",
        "\n",
        "(b) Transform each sentence into a list, where each element corresponds to a word in the sentence. For example, if the sentences are \"Hello, how are you doing today?\" and \"This is an example sentence for the program!\"\n",
        "\n",
        "The program should output:\n",
        "['Hello', ',', 'how', 'are', 'you', 'doing', 'today', '?', 'This', 'is', 'an', 'example', 'sentence', 'for', 'the', 'program', '!']\n",
        "\n",
        "(c) Compare the two sentences. Print out a list of words that occur in both sentences.\n",
        "\n",
        "(d) Remove any punctuation from the sentence and print the sanitized sentences. It should remove at least the following characters, but it can remove more: period(“.”), comma (“,”), semicolon (“;”), and colon (“:”).\n",
        "\n",
        "(e) Count the number of vowels in each of the sentences. Print out each vowel and the occurrences  in the each of the two sentences separately, such as:\n",
        "\n",
        "Sentence1: a:2, e:2, i:0, etc.\n",
        "Sentence2: a:1, e:2, i:2, etc.\n",
        "\n",
        "Design a well-structured Python program to execute these tasks efficiently."
      ]
    },
    {
      "cell_type": "code",
      "execution_count": null,
      "metadata": {
        "id": "qYNWQQ0Yn8WR",
        "colab": {
          "base_uri": "https://localhost:8080/"
        },
        "outputId": "3260702c-c6ab-41d7-f0dd-2be564c73f04"
      },
      "outputs": [
        {
          "output_type": "stream",
          "name": "stdout",
          "text": [
            "Enter a string: Jayanth\n",
            "Enter another string: Meera\n",
            "['Jayanth', 'Meera']\n",
            "Jayanth Meera\n",
            "Sentence 1: {'a': 2, 'e': 0, 'i': 0, 'o': 0, 'u': 0}\n",
            "Sentence 2: {'a': 1, 'e': 2, 'i': 0, 'o': 0, 'u': 0}\n"
          ]
        }
      ],
      "source": [
        "\n",
        "def remove_punctuation(sentence):\n",
        "    if isinstance(sentence, list):\n",
        "        sentence = \" \".join(sentence)\n",
        "    punc = ['.', ',', ';', ':']\n",
        "    for char in punc:\n",
        "        sentence = sentence.replace(char, \"\")\n",
        "    return sentence\n",
        "\n",
        "def count_vowels(sentence):\n",
        "    vowels = \"aeiou\"\n",
        "    counts = {v: 0 for v in vowels}\n",
        "    sentence = sentence.lower()\n",
        "\n",
        "    for char in sentence:\n",
        "        if char in counts:\n",
        "            counts[char] += 1\n",
        "    return counts\n",
        "\n",
        "a=input(\"Enter a string: \")\n",
        "b=input(\"Enter another string: \")\n",
        "Sentence1 = a.split()\n",
        "Sentence2 = b.split()\n",
        "Sentence=Sentence1+Sentence2\n",
        "print(Sentence)\n",
        "print(remove_punctuation(Sentence))\n",
        "\n",
        "vowel_counts1 = count_vowels(a)\n",
        "vowel_counts2 = count_vowels(b)\n",
        "\n",
        "print(\"Sentence 1:\", vowel_counts1)\n",
        "print(\"Sentence 2:\", vowel_counts2)"
      ]
    },
    {
      "cell_type": "markdown",
      "metadata": {
        "id": "OP4-5qxAtInv"
      },
      "source": [
        "# Question 4 (10 Points)"
      ]
    },
    {
      "cell_type": "markdown",
      "metadata": {
        "id": "uzN4_hDptK9U"
      },
      "source": [
        "Design and implement a simple command-line calculator program. The program should handle both integers and floating-point numbers.\n",
        "\n",
        "(a) Write program that takes a mathematical expression as input and evaluates it. The program should support addition, subtraction, multiplication, and division.\n",
        "\n",
        "(b) Extend the calculator to handle parentheses in mathematical expressions. Implement the necessary logic to evaluate expressions with nested parentheses.\n",
        "\n",
        "(c) Enhance your calculator to include additional mathematical operations such as exponentiation, square root, and modulus.\n",
        "\n",
        "(d) Implement error handling in the calculator program. Handle cases such as division by zero and invalid input expressions. Provide meaningful error messages.\n",
        "\n",
        "(e) Implement a command to exit the calculator."
      ]
    },
    {
      "cell_type": "code",
      "execution_count": null,
      "metadata": {
        "colab": {
          "base_uri": "https://localhost:8080/"
        },
        "id": "8nQnVxjJuYtu",
        "outputId": "d9575878-0edf-4e16-ec6c-f76ba14b486b"
      },
      "outputs": [
        {
          "output_type": "stream",
          "name": "stdout",
          "text": [
            "Its a simple Calculator\n",
            "Available Operations: +, -, *, /, **, sqrt(), %, ()\n",
            "Type 'exit' to quit\n",
            "\n",
            "Enter calculation: 9+8+*8\n",
            "Error: Invalid expression!\n",
            "\n",
            "Enter calculation: 8+9+6\n",
            "Result: 23\n",
            "\n",
            "Enter calculation: 4*9-9\n",
            "Result: 27\n",
            "\n",
            "Enter calculation: exit\n",
            "Goodbye!\n"
          ]
        }
      ],
      "source": [
        "# Your code here\n",
        "import math\n",
        "\n",
        "def calculator():\n",
        "   print(\"Its a simple Calculator\")\n",
        "   print(\"Available Operations: +, -, *, /, **, sqrt(), %, ()\")\n",
        "   print(\"Type 'exit' to quit\")\n",
        "   while True:\n",
        "       expression = input(\"\\nEnter calculation: \")\n",
        "       if expression.lower() == 'exit':\n",
        "           print(\"Goodbye!\")\n",
        "           break\n",
        "       try:\n",
        "           if 'sqrt' in expression:\n",
        "               expression = expression.replace('sqrt', 'math.sqrt')\n",
        "           result = eval(expression)\n",
        "           print(\"Result:\", result)\n",
        "       except ZeroDivisionError:\n",
        "           print(\"Error: Cannot divide by zero!\")\n",
        "       except ValueError:\n",
        "           print(\"Error: Invalid number!\")\n",
        "       except SyntaxError:\n",
        "           print(\"Error: Invalid expression!\")\n",
        "       except:\n",
        "           print(\"Error: please try again\")\n",
        "calculator()"
      ]
    },
    {
      "cell_type": "markdown",
      "metadata": {
        "id": "z3tBE7E-Xn5X"
      },
      "source": [
        "# Question 5 (20 points).\n",
        "\n",
        "In the field of Data Science, data is often formatted as a comma-delimited (CSV) file, where each line in a file corresponds to a field's value. Refer to Chapter 9 (p. 106) for more information on comma-delimited files.\n",
        "\n",
        "To answer this question, you will need to download the file [Assignment1_denton_housing.csv](https://raw.githubusercontent.com/unt-iialab/info5731-spring2022/main/assignments/Assignment1_denton_housing.csv) included with this assignment. The file contains statistics about housing in the city of Denton from 2008 to 2014. Write a program to implement the following questions.\n",
        "\n",
        "(a) (5 pts) Calculate the difference in the number of Occupied Housing Units from year to year and print it. The difference must be calculated for the consecutive years such as 2008-2009, 2009-2010 etc. Finally, print the values in the ascending order.\n",
        "\n",
        "(b) (5 pts) For all the years, calculate the percentage of housing units which are vacant an occupied. Print the results in the following format:\n",
        "\n",
        "Year Vacant Housing Units Occupied Housing Units\n",
        "\n",
        "    2008  30%   70%                          \n",
        "\t2009 ----- -----\n",
        "\t2010 ----- -----\n",
        "    2011 ----- -----\n",
        "\t2012 ----- -----\n",
        "    2013 ----- -----\n",
        "\t2014 ----- -----\n",
        "  \n",
        "  \n",
        "\n",
        "(c) (5 pts) Calculate and print the valued and years in which the highest number of housing units were vacant and occupied. Print the results in the following format:  \n",
        "\n",
        "                              Year\tValue\n",
        "\tVacant Housing Units\t  -----   -----\n",
        "\tOccupied Housing Units\t-----   -----\n",
        "\n",
        "(d) (5 pts) Calculate the harmonic mean of the total housing units and print it out. You can find the information about harmonic mean here: https://ncalculators.com/statistics/harmonic-mean-calculator.htm"
      ]
    },
    {
      "cell_type": "code",
      "execution_count": 18,
      "metadata": {
        "colab": {
          "base_uri": "https://localhost:8080/"
        },
        "id": "lqGYuHBhcsRH",
        "outputId": "4ce575e1-0431-4182-c627-c56658cb5276"
      },
      "outputs": [
        {
          "output_type": "stream",
          "name": "stdout",
          "text": [
            "\n",
            "(a) Differences in Occupied Housing between years:\n",
            "2008-2009: -795\n",
            "2010-2011: -303\n",
            "2011-2012: 1404\n",
            "2012-2013: 1565\n",
            "2013-2014: 2622\n",
            "2009-2010: 5091\n",
            "\n",
            "(b) Percentages of Vacant and Occupied Housing:\n",
            "Year   Vacant%   Occupied%\n",
            "2008:  10.9%    89.1%\n",
            "2009:  9.1%    90.9%\n",
            "2010:  8.1%    91.9%\n",
            "2011:  9.4%    90.6%\n",
            "2012:  6.7%    93.3%\n",
            "2013:  8.8%    91.2%\n",
            "2014:  5.7%    94.3%\n",
            "\n",
            "(c) Highest Vacant and Occupied Housing Units:\n",
            "Highest Vacant: 4483 in year 2008\n",
            "Highest Occupied: 46295 in year 2014\n",
            "\n",
            "(d) Harmonic Mean: 44398.29\n"
          ]
        }
      ],
      "source": [
        " # Your code here\n",
        "import csv\n",
        "\n",
        "with open(\"Assignment1_denton_housing.csv\", mode=\"r\") as file:\n",
        "    data = list(csv.DictReader(file))\n",
        "\n",
        "\n",
        "def filter_data(title):\n",
        "    return sorted([row for row in data if row[\"title_field\"] == title], key=lambda x: int(x[\"year\"]))\n",
        "\n",
        "\n",
        "occupied = filter_data(\"Occupied Housing Units\")\n",
        "differences = []\n",
        "for i in range(1, len(occupied)):\n",
        "    diff = int(occupied[i][\"value\"]) - int(occupied[i - 1][\"value\"])\n",
        "    differences.append((f\"{occupied[i - 1]['year']}-{occupied[i]['year']}\", diff))\n",
        "print(\"\\n(a) Differences in Occupied Housing between years:\")\n",
        "for year, diff in sorted(differences, key=lambda x: x[1]):\n",
        "    print(f\"{year}: {diff}\")\n",
        "\n",
        "total = filter_data(\"Total Housing Units\")\n",
        "vacant = filter_data(\"Vacant Housing Units\")\n",
        "occupied = filter_data(\"Occupied Housing Units\")\n",
        "print(\"\\n(b) Percentages of Vacant and Occupied Housing:\")\n",
        "print(\"Year   Vacant%   Occupied%\")\n",
        "for t, v, o in zip(total, vacant, occupied):\n",
        "    vacant_percent = (int(v[\"value\"]) / int(t[\"value\"])) * 100\n",
        "    occupied_percent = (int(o[\"value\"]) / int(t[\"value\"])) * 100\n",
        "    print(f\"{t['year']}:  {vacant_percent:.1f}%    {occupied_percent:.1f}%\")\n",
        "\n",
        "\n",
        "max_vacant = max(vacant, key=lambda x: int(x[\"value\"]))\n",
        "max_occupied = max(occupied, key=lambda x: int(x[\"value\"]))\n",
        "print(\"\\n(c) Highest Vacant and Occupied Housing Units:\")\n",
        "print(f\"Highest Vacant: {max_vacant['value']} in year {max_vacant['year']}\")\n",
        "print(f\"Highest Occupied: {max_occupied['value']} in year {max_occupied['year']}\")\n",
        "\n",
        "\n",
        "total_values = [int(row[\"value\"]) for row in total]\n",
        "harmonic_mean = len(total_values) / sum(1 / x for x in total_values)\n",
        "print(f\"\\n(d) Harmonic Mean: {harmonic_mean:.2f}\")\n",
        "\n"
      ]
    },
    {
      "cell_type": "code",
      "source": [],
      "metadata": {
        "id": "YtasmbmQ9HMS"
      },
      "execution_count": null,
      "outputs": []
    },
    {
      "cell_type": "markdown",
      "metadata": {
        "id": "DB9XtkavJmsO"
      },
      "source": [
        "# **For question 6 and 7 you can take AI assitance to solve.**\n",
        "\n",
        "Make sure you follow the instructions given in class to answer these questions.\n",
        "\n",
        "\n",
        "**Important points:**\n",
        "\n",
        "1.   You must come up with at least 10 edge cases.\n",
        "2.   You should provide prompts and revised prompts given to ChatGPT.\n",
        "2.   Debug your code and write comments for each block of code\n",
        "3.   Analyzing error will not consider as edge case.\n",
        "\n",
        "Edge cases are like real life scienarios which are realated to the given question."
      ]
    },
    {
      "cell_type": "markdown",
      "metadata": {
        "id": "BAfp-70D2Cay"
      },
      "source": [
        "# Question 6 (20 points).\n",
        "Develop a advance Python program to manage inventory records for a prodcut managing company. The system needs functions for adding, deleting and changing products and basic search options. Your system should use CSV files to automate restocking and produce reports that show item values alongside category breakdowns. Manage edge cases and corrupted CSV files. Finally maintaine 50 products of different categories in inventory."
      ]
    },
    {
      "cell_type": "code",
      "execution_count": null,
      "metadata": {
        "id": "w8dE2dJb2quE",
        "colab": {
          "base_uri": "https://localhost:8080/"
        },
        "outputId": "ab86e10e-afc8-4648-a476-e31910a8415b"
      },
      "outputs": [
        {
          "output_type": "stream",
          "name": "stdout",
          "text": [
            "Inventory file found.\n",
            "\n",
            "--- Inventory Management System ---\n",
            "1. Add Product\n",
            "2. Delete Product\n",
            "3. Update Product\n",
            "4. Search by ID\n",
            "5. Search by Category\n",
            "6. Generate Report\n",
            "7. Exit\n",
            "Enter your choice: 6\n",
            "Total Inventory Value: $95625.00\n",
            "Category Breakdown:\n",
            "Category2: $15275.00\n",
            "Category3: $18375.00\n",
            "Category4: $21675.00\n",
            "Category5: $25175.00\n",
            "Category1: $15125.00\n",
            "\n",
            "--- Inventory Management System ---\n",
            "1. Add Product\n",
            "2. Delete Product\n",
            "3. Update Product\n",
            "4. Search by ID\n",
            "5. Search by Category\n",
            "6. Generate Report\n",
            "7. Exit\n",
            "Enter your choice: 7\n",
            "Exiting program.\n"
          ]
        }
      ],
      "source": [
        "import csv\n",
        "import os\n",
        "\n",
        "FILE_NAME = 'inventory.csv'\n",
        "\n",
        "# Initialize inventory by creating file if it doesn't exist\n",
        "def initialize_inventory():\n",
        "    if not os.path.exists(FILE_NAME):\n",
        "        with open(FILE_NAME, mode='w', newline='') as file:\n",
        "            writer = csv.DictWriter(file, fieldnames=['ID', 'Name', 'Category', 'Quantity', 'Price'])\n",
        "            writer.writeheader()  # Write the header for the CSV file\n",
        "        print(\"Inventory file initialized.\")\n",
        "    else:\n",
        "        print(\"Inventory file found.\")\n",
        "\n",
        "# Read inventory from CSV\n",
        "def read_inventory():\n",
        "    inventory = []\n",
        "    required_columns = ['ID', 'Name', 'Category', 'Quantity', 'Price']\n",
        "\n",
        "    try:\n",
        "        with open(FILE_NAME, mode='r') as file:\n",
        "            reader = csv.DictReader(file)\n",
        "            if not reader.fieldnames:  # Check if the file is empty\n",
        "                print(\"The inventory file is empty. Initializing with an empty inventory.\")\n",
        "                return inventory\n",
        "\n",
        "            # Check if all required columns are present\n",
        "            missing_columns = [col for col in required_columns if col not in reader.fieldnames]\n",
        "            if missing_columns:\n",
        "                print(f\"Error: The CSV file is missing required columns: {', '.join(missing_columns)}\")\n",
        "                print(\"Please fix the file or delete it to initialize a new inventory.\")\n",
        "                return []\n",
        "\n",
        "            # Validate each row in the CSV file\n",
        "            for row in reader:\n",
        "                try:\n",
        "                    product = {\n",
        "                        'ID': int(row['ID']),\n",
        "                        'Name': row['Name'],\n",
        "                        'Category': row['Category'],\n",
        "                        'Quantity': int(row['Quantity']),\n",
        "                        'Price': float(row['Price'])\n",
        "                    }\n",
        "                    inventory.append(product)\n",
        "                except (ValueError, KeyError) as e:\n",
        "                    print(f\"Skipping invalid row: {row}. Error: {e}\")\n",
        "    except FileNotFoundError:\n",
        "        print(\"No inventory file found. Initializing with an empty inventory.\")\n",
        "    except csv.Error as e:\n",
        "        print(f\"Error reading the CSV file: {e}. The file may be corrupted.\")\n",
        "        print(\"Please fix the file or delete it to initialize a new inventory.\")\n",
        "        return []\n",
        "    except Exception as e:\n",
        "        print(f\"An unexpected error occurred: {e}. The file may be corrupted.\")\n",
        "        return []\n",
        "    return inventory\n",
        "\n",
        "# Write inventory back to CSV\n",
        "def write_inventory(inventory):\n",
        "    with open(FILE_NAME, mode='w', newline='') as file:\n",
        "        writer = csv.DictWriter(file, fieldnames=['ID', 'Name', 'Category', 'Quantity', 'Price'])\n",
        "        writer.writeheader()\n",
        "        writer.writerows(inventory)\n",
        "\n",
        "# Add a product to the inventory\n",
        "def add_product(ID, name, category, quantity, price):\n",
        "    inventory = read_inventory()\n",
        "    # Add the new product\n",
        "    inventory.append({\n",
        "        'ID': ID,\n",
        "        'Name': name,\n",
        "        'Category': category,\n",
        "        'Quantity': quantity,\n",
        "        'Price': price\n",
        "    })\n",
        "    write_inventory(inventory)\n",
        "    print(f\"Product {name} added successfully.\")\n",
        "\n",
        "# Delete a product from the inventory\n",
        "def delete_product(ID):\n",
        "    inventory = read_inventory()\n",
        "    # Find and remove the product\n",
        "    updated_inventory = [product for product in inventory if product['ID'] != ID]\n",
        "    write_inventory(updated_inventory)\n",
        "    print(f\"Product with ID {ID} deleted successfully.\")\n",
        "\n",
        "# Update product information\n",
        "def update_product(ID, name=None, category=None, quantity=None, price=None):\n",
        "    inventory = read_inventory()\n",
        "    # Find the product to update\n",
        "    for product in inventory:\n",
        "        if product['ID'] == ID:\n",
        "            if name is not None:\n",
        "                product['Name'] = name\n",
        "            if category is not None:\n",
        "                product['Category'] = category\n",
        "            if quantity is not None:\n",
        "                product['Quantity'] = quantity\n",
        "            if price is not None:\n",
        "                product['Price'] = price\n",
        "            write_inventory(inventory)\n",
        "            print(f\"Product with ID {ID} updated successfully.\")\n",
        "            return\n",
        "    print(f\"Product with ID {ID} not found.\")\n",
        "\n",
        "# Search product by ID\n",
        "def search_by_id(ID):\n",
        "    inventory = read_inventory()\n",
        "    for product in inventory:\n",
        "        if product['ID'] == ID:\n",
        "            return product\n",
        "    print(f\"Product with ID {ID} not found.\")\n",
        "    return None\n",
        "\n",
        "# Search products by Category\n",
        "def search_by_category(category):\n",
        "    inventory = read_inventory()\n",
        "    return [product for product in inventory if product['Category'].lower() == category.lower()]\n",
        "\n",
        "# Generate Report: Product Values and Category Breakdown\n",
        "def generate_report():\n",
        "    inventory = read_inventory()\n",
        "    total_value = 0\n",
        "    category_totals = {}\n",
        "    for product in inventory:\n",
        "        product_value = product['Quantity'] * product['Price']\n",
        "        total_value += product_value\n",
        "        category_totals[product['Category']] = category_totals.get(product['Category'], 0) + product_value\n",
        "    print(f\"Total Inventory Value: ${total_value:.2f}\")\n",
        "    print(\"Category Breakdown:\")\n",
        "    for category, value in category_totals.items():\n",
        "        print(f\"{category}: ${value:.2f}\")\n",
        "\n",
        "# Function to handle user input and validate numeric entries\n",
        "def safe_input(prompt, value_type):\n",
        "    while True:\n",
        "        try:\n",
        "            user_input = input(prompt)\n",
        "            if value_type == 'int':\n",
        "                return int(user_input)\n",
        "            elif value_type == 'float':\n",
        "                return float(user_input)\n",
        "            else:\n",
        "                return user_input\n",
        "        except ValueError:\n",
        "            print(f\"Invalid input. Please enter a valid {value_type}.\")\n",
        "\n",
        "# Main menu to interact with the system\n",
        "def main_menu():\n",
        "    initialize_inventory()  # Ensures the CSV file is created on first run\n",
        "    while True:\n",
        "        print(\"\\n--- Inventory Management System ---\")\n",
        "        print(\"1. Add Product\")\n",
        "        print(\"2. Delete Product\")\n",
        "        print(\"3. Update Product\")\n",
        "        print(\"4. Search by ID\")\n",
        "        print(\"5. Search by Category\")\n",
        "        print(\"6. Generate Report\")\n",
        "        print(\"7. Exit\")\n",
        "        choice = input(\"Enter your choice: \")\n",
        "        if choice == '1':\n",
        "            ID = safe_input(\"Enter product ID: \", 'int')\n",
        "            name = input(\"Enter product name: \")\n",
        "            category = input(\"Enter product category: \")\n",
        "            quantity = safe_input(\"Enter product quantity: \", 'int')\n",
        "            price = safe_input(\"Enter product price: \", 'float')\n",
        "            add_product(ID, name, category, quantity, price)\n",
        "        elif choice == '2':\n",
        "            ID = safe_input(\"Enter product ID to delete: \", 'int')\n",
        "            delete_product(ID)\n",
        "        elif choice == '3':\n",
        "            ID = safe_input(\"Enter product ID to update: \", 'int')\n",
        "            name = input(\"Enter new product name (leave blank to keep existing): \")\n",
        "            category = input(\"Enter new product category (leave blank to keep existing): \")\n",
        "            quantity = input(\"Enter new product quantity (leave blank to keep existing): \")\n",
        "            price = input(\"Enter new product price (leave blank to keep existing): \")\n",
        "            update_product(ID,\n",
        "                           name if name else None,\n",
        "                           category if category else None,\n",
        "                           int(quantity) if quantity else None,\n",
        "                           float(price) if price else None)\n",
        "        elif choice == '4':\n",
        "            ID = safe_input(\"Enter product ID to search: \", 'int')\n",
        "            product = search_by_id(ID)\n",
        "            if product:\n",
        "                print(f\"Product Found: {product}\")\n",
        "        elif choice == '5':\n",
        "            category = input(\"Enter category to search: \")\n",
        "            products = search_by_category(category)\n",
        "            if products:\n",
        "                for product in products:\n",
        "                    print(product)\n",
        "            else:\n",
        "                print(f\"No products found in category: {category}\")\n",
        "        elif choice == '6':\n",
        "            generate_report()\n",
        "        elif choice == '7':\n",
        "            print(\"Exiting program.\")\n",
        "            break\n",
        "        else:\n",
        "            print(\"Invalid choice, please try again.\")\n",
        "\n",
        "# Run the program\n",
        "if __name__ == \"__main__\":\n",
        "    main_menu()\n"
      ]
    },
    {
      "cell_type": "markdown",
      "metadata": {
        "id": "TR6xj5khAbJy"
      },
      "source": [
        "Prompt : Quantity field is accepting negative field so make sure that it does not accept negative or invalid intergers\n",
        "\n",
        "Edge Case 1: Handling negative Quantity while adding a product\n",
        "\n"
      ]
    },
    {
      "cell_type": "code",
      "execution_count": null,
      "metadata": {
        "id": "DI2RwSdUzU9c"
      },
      "outputs": [],
      "source": [
        "def add_product(ID, name, category, quantity, price):\n",
        "    if quantity < 0:\n",
        "        print(\"Error: Quantity cannot be negative. Please enter a valid quantity.\")\n",
        "        return\n",
        "    inventory = read_inventory()\n",
        "    inventory.append({\n",
        "        'ID': ID,\n",
        "        'Name': name,\n",
        "        'Category': category,\n",
        "        'Quantity': quantity,\n",
        "        'Price': price\n",
        "    })\n",
        "    write_inventory(inventory)\n",
        "    print(f\"Product {name} added successfully.\")"
      ]
    },
    {
      "cell_type": "markdown",
      "metadata": {
        "id": "cy8FIz9Q4ta1"
      },
      "source": [
        "Prompt : GJust give me a code snippet to handle the edge case as price field is accepting negative field so make sure that it does not accept negative or invalid intergers\n",
        "\n",
        "Edge Case 2: Handling negative Price while adding a product"
      ]
    },
    {
      "cell_type": "code",
      "execution_count": null,
      "metadata": {
        "id": "vaGgXef74tDt"
      },
      "outputs": [],
      "source": [
        "def add_product(ID, name, category, quantity, price):\n",
        "    if quantity < 0:\n",
        "        print(\"Error: Quantity cannot be negative. Please enter a valid quantity.\")\n",
        "        return\n",
        "    if price < 0:\n",
        "        print(\"Error: Price cannot be negative. Please enter a valid price.\")\n",
        "        return\n",
        "    inventory = read_inventory()\n",
        "    inventory.append({\n",
        "        'ID': ID,\n",
        "        'Name': name,\n",
        "        'Category': category,\n",
        "        'Quantity': quantity,\n",
        "        'Price': price\n",
        "    })\n",
        "    write_inventory(inventory)\n",
        "    print(f\"Product {name} added successfully.\")"
      ]
    },
    {
      "cell_type": "markdown",
      "metadata": {
        "id": "05fWWvXV9imO"
      },
      "source": [
        "Prompt: There is a possiblity of adding the same productid which might lead to duplicacy and give me an edge case to handle that\n",
        "\n",
        "Edge Case 3: Dont allow duplicate duplicate Product ids and handling it efficiently"
      ]
    },
    {
      "cell_type": "code",
      "execution_count": null,
      "metadata": {
        "id": "gL7P7iyb93RW"
      },
      "outputs": [],
      "source": [
        "def add_product(ID, name, category, quantity, price):\n",
        "    if quantity < 0:\n",
        "        print(\"Error: Quantity cannot be negative. Please enter a valid quantity.\")\n",
        "        return\n",
        "    if price < 0:\n",
        "        print(\"Error: Price cannot be negative. Please enter a valid price.\")\n",
        "        return\n",
        "    inventory = read_inventory()\n",
        "    if any(product['ID'] == ID for product in inventory):\n",
        "        print(f\"Error: Product with ID {ID} already exists. Please use a unique ID.\")\n",
        "        return\n",
        "    inventory.append({\n",
        "        'ID': ID,\n",
        "        'Name': name,\n",
        "        'Category': category,\n",
        "        'Quantity': quantity,\n",
        "        'Price': price\n",
        "    })\n",
        "    write_inventory(inventory)\n",
        "    print(f\"Product {name} added successfully.\")"
      ]
    },
    {
      "cell_type": "markdown",
      "metadata": {
        "id": "Oa6EyZ31Jnf9"
      },
      "source": [
        "Prompt: The user tries to add a product with an empty name or a name consisting only of spaces.\n",
        "\n",
        "Edge case 4: The program should reject the input and notify the user that the name cannot be empty."
      ]
    },
    {
      "cell_type": "code",
      "execution_count": null,
      "metadata": {
        "colab": {
          "base_uri": "https://localhost:8080/"
        },
        "id": "J_H7j4MCKEJC",
        "outputId": "fc75edfa-d4d2-471a-ab30-9dc3245cf6d5"
      },
      "outputs": [
        {
          "output_type": "stream",
          "name": "stdout",
          "text": [
            "\n",
            "--- Inventory Management System ---\n",
            "1. Add Product\n",
            "2. Delete Product\n",
            "3. Update Product\n",
            "4. Search by ID\n",
            "5. Search by Category\n",
            "6. Generate Report\n",
            "7. Exit\n",
            "Enter your choice: 7\n",
            "Exiting program.\n"
          ]
        }
      ],
      "source": [
        "def add_product(ID, name, category, quantity, price):\n",
        "    if quantity < 0:\n",
        "        print(\"Error: Quantity cannot be negative. Please enter a valid quantity.\")\n",
        "        return\n",
        "    if price < 0:\n",
        "        print(\"Error: Price cannot be negative. Please enter a valid price.\")\n",
        "        return\n",
        "    if not name.strip():\n",
        "        print(\"Error: Product name cannot be empty. Please enter a valid name.\")\n",
        "        return\n",
        "    inventory = read_inventory()\n",
        "    if any(product['ID'] == ID for product in inventory):\n",
        "        print(f\"Error: Product with ID {ID} already exists. Please use a unique ID.\")\n",
        "        return\n",
        "    inventory.append({\n",
        "        'ID': ID,\n",
        "        'Name': name,\n",
        "        'Category': category,\n",
        "        'Quantity': quantity,\n",
        "        'Price': price\n",
        "    })\n",
        "    write_inventory(inventory)\n",
        "    print(f\"Product {name} added successfully.\")"
      ]
    },
    {
      "cell_type": "markdown",
      "source": [
        "Prompt: The user tries to delete a product with an ID that does not exist in the inventory.\n",
        "\n",
        "Edge Case 5:: The program should notify the user that the product ID was not found.\n"
      ],
      "metadata": {
        "id": "MxxuqflAfZMp"
      }
    },
    {
      "cell_type": "code",
      "source": [
        "def delete_product(ID):\n",
        "    inventory = read_inventory()\n",
        "    updated_inventory = [product for product in inventory if product['ID'] != ID]\n",
        "    if len(updated_inventory) == len(inventory):\n",
        "        print(f\"Error: Product with ID {ID} not found.\")\n",
        "    else:\n",
        "        write_inventory(updated_inventory)\n",
        "        print(f\"Product with ID {ID} deleted successfully.\")"
      ],
      "metadata": {
        "id": "vFVBP3ulfuzU"
      },
      "execution_count": null,
      "outputs": []
    },
    {
      "cell_type": "markdown",
      "source": [
        "Prompt:The user tries to search for a category that does not exist or provides an invalid category name.\n",
        "\n",
        "Edge Case 6: The program should notify the user that no products were found in the specified category."
      ],
      "metadata": {
        "id": "3EJH5TIzliRQ"
      }
    },
    {
      "cell_type": "code",
      "source": [
        "def search_by_category(category):\n",
        "    inventory = read_inventory()\n",
        "    matching_products = [product for product in inventory if product['Category'].lower() == category.lower()]\n",
        "    if not matching_products:\n",
        "        print(f\"No products found in category: {category}\")\n",
        "    return matching_products"
      ],
      "metadata": {
        "id": "rrxjEiSDnLF_"
      },
      "execution_count": null,
      "outputs": []
    },
    {
      "cell_type": "markdown",
      "source": [
        "Prompt:The user tries to update a product with a negative quantity and handle this\n",
        "\n",
        "Edge Case 7: The program should reject the update and notify the user that the quantity cannot be negative."
      ],
      "metadata": {
        "id": "EdJJMp8LnNJX"
      }
    },
    {
      "cell_type": "code",
      "source": [
        "def update_product(ID, name=None, category=None, quantity=None, price=None):\n",
        "    inventory = read_inventory()\n",
        "    for product in inventory:\n",
        "        if product['ID'] == ID:\n",
        "            if name is not None:\n",
        "                product['Name'] = name\n",
        "            if category is not None:\n",
        "                product['Category'] = category\n",
        "            if quantity is not None:\n",
        "                if quantity < 0:\n",
        "                    print(\"Error: Quantity cannot be negative. Please enter a valid quantity.\")\n",
        "                    return\n",
        "                product['Quantity'] = quantity\n",
        "            if price is not None:\n",
        "                product['Price'] = price\n",
        "            write_inventory(inventory)\n",
        "            print(f\"Product with ID {ID} updated successfully.\")\n",
        "            return\n",
        "    print(f\"Product with ID {ID} not found.\")"
      ],
      "metadata": {
        "id": "VKGFlmfun5WU"
      },
      "execution_count": null,
      "outputs": []
    },
    {
      "cell_type": "markdown",
      "source": [
        "Prompt:The user tries to update a product with a negative price and try t handle this case.\n",
        "\n",
        "Edge Case 8: The program should reject the update and notify the user that the price cannot be negative.\n",
        "\n"
      ],
      "metadata": {
        "id": "PBWka0bzot8O"
      }
    },
    {
      "cell_type": "code",
      "source": [
        "def update_product(ID, name=None, category=None, quantity=None, price=None):\n",
        "    inventory = read_inventory()\n",
        "    for product in inventory:\n",
        "        if product['ID'] == ID:\n",
        "            if name is not None:\n",
        "                product['Name'] = name\n",
        "            if category is not None:\n",
        "                product['Category'] = category\n",
        "            if quantity is not None:\n",
        "                if quantity < 0:\n",
        "                    print(\"Error: Quantity cannot be negative. Please enter a valid quantity.\")\n",
        "                    return\n",
        "                product['Quantity'] = quantity\n",
        "            if price is not None:\n",
        "                if price < 0:\n",
        "                    print(\"Error: Price cannot be negative. Please enter a valid price.\")\n",
        "                    return\n",
        "                product['Price'] = price\n",
        "            write_inventory(inventory)\n",
        "            print(f\"Product with ID {ID} updated successfully.\")\n",
        "            return\n",
        "    print(f\"Product with ID {ID} not found.\")"
      ],
      "metadata": {
        "id": "y4rTmw_np2hT"
      },
      "execution_count": null,
      "outputs": []
    },
    {
      "cell_type": "markdown",
      "source": [
        "Prompt :The user tries to update a product with an ID that does not exist in the inventory.Try to handle this case.\n",
        "\n",
        "Edge Case 9: The program should notify the user that the product ID was not found and prevent the update."
      ],
      "metadata": {
        "id": "hfAFuJ1OpMMb"
      }
    },
    {
      "cell_type": "code",
      "source": [
        "def update_product(ID, name=None, category=None, quantity=None, price=None):\n",
        "    inventory = read_inventory()\n",
        "    for product in inventory:\n",
        "        if product['ID'] == ID:\n",
        "            if name is not None:\n",
        "                product['Name'] = name\n",
        "            if category is not None:\n",
        "                product['Category'] = category\n",
        "            if quantity is not None:\n",
        "                if quantity < 0:\n",
        "                    print(\"Error: Quantity cannot be negative. Please enter a valid quantity.\")\n",
        "                    return\n",
        "                product['Quantity'] = quantity\n",
        "            if price is not None:\n",
        "                if price < 0:\n",
        "                    print(\"Error: Price cannot be negative. Please enter a valid price.\")\n",
        "                    return\n",
        "                product['Price'] = price\n",
        "            write_inventory(inventory)\n",
        "            print(f\"Product with ID {ID} updated successfully.\")\n",
        "            return\n",
        "    print(f\"Error: Product with ID {ID} not found.\")  # Notify user if product ID is not found"
      ],
      "metadata": {
        "id": "Cr_IrYvJ48m2"
      },
      "execution_count": null,
      "outputs": []
    },
    {
      "cell_type": "markdown",
      "source": [
        "Prompt: If the Product Price Not a Number and an user enters an invalid price that can't be converted to a number\n",
        "\n",
        "Edge Case 10: The system should display an error and reject such input, asking for a valid numeric price."
      ],
      "metadata": {
        "id": "Ck3ijycH5lir"
      }
    },
    {
      "cell_type": "code",
      "source": [
        "def safe_input(prompt, value_type):\n",
        "    while True:\n",
        "        try:\n",
        "            user_input = input(prompt)\n",
        "            if value_type == 'float':\n",
        "                return float(user_input)\n",
        "            # Add more logic for other value types if needed\n",
        "        except ValueError:\n",
        "            print(f\"Invalid input. Please enter a valid {value_type}.\")"
      ],
      "metadata": {
        "id": "uNrh_CooDsq-"
      },
      "execution_count": null,
      "outputs": []
    },
    {
      "cell_type": "markdown",
      "source": [
        "So the following code is an optimized version of the advanced progarm that implements all the above 10 Edge Cases"
      ],
      "metadata": {
        "id": "4tHc4Im_B6bx"
      }
    },
    {
      "cell_type": "code",
      "source": [
        "import csv\n",
        "import os\n",
        "\n",
        "FILE_NAME = 'inventory.csv'\n",
        "\n",
        "# Initialize inventory by creating file if it doesn't exist\n",
        "def initialize_inventory():\n",
        "    if not os.path.exists(FILE_NAME):\n",
        "        with open(FILE_NAME, mode='w', newline='') as file:\n",
        "            writer = csv.DictWriter(file, fieldnames=['ID', 'Name', 'Category', 'Quantity', 'Price'])\n",
        "            writer.writeheader()  # Write the header for the CSV file\n",
        "        print(\"Inventory file initialized.\")\n",
        "    else:\n",
        "        print(\"Inventory file found.\")\n",
        "\n",
        "# Read inventory from CSV\n",
        "def read_inventory():\n",
        "    inventory = []\n",
        "    required_columns = ['ID', 'Name', 'Category', 'Quantity', 'Price']\n",
        "    try:\n",
        "        with open(FILE_NAME, mode='r') as file:\n",
        "            reader = csv.DictReader(file)\n",
        "            if not reader.fieldnames:  # Check if the file is empty\n",
        "                print(\"The inventory file is empty. Initializing with an empty inventory.\")\n",
        "                return inventory\n",
        "            # Check if all required columns are present\n",
        "            missing_columns = [col for col in required_columns if col not in reader.fieldnames]\n",
        "            if missing_columns:\n",
        "                print(f\"Error: The CSV file is missing required columns: {', '.join(missing_columns)}\")\n",
        "                print(\"Please fix the file or delete it to initialize a new inventory.\")\n",
        "                return []\n",
        "            # Validate each row in the CSV file\n",
        "            for row in reader:\n",
        "                try:\n",
        "                    product = {\n",
        "                        'ID': int(row['ID']),\n",
        "                        'Name': row['Name'],\n",
        "                        'Category': row['Category'],\n",
        "                        'Quantity': int(row['Quantity']),\n",
        "                        'Price': float(row['Price'])\n",
        "                    }\n",
        "                    inventory.append(product)\n",
        "                except (ValueError, KeyError) as e:\n",
        "                    print(f\"Skipping invalid row: {row}. Error: {e}\")\n",
        "    except FileNotFoundError:\n",
        "        print(\"No inventory file found. Initializing with an empty inventory.\")\n",
        "    except csv.Error as e:\n",
        "        print(f\"Error reading the CSV file: {e}. The file may be corrupted.\")\n",
        "        print(\"Please fix the file or delete it to initialize a new inventory.\")\n",
        "        return []\n",
        "    except Exception as e:\n",
        "        print(f\"An unexpected error occurred: {e}. The file may be corrupted.\")\n",
        "        return []\n",
        "    return inventory\n",
        "\n",
        "# Write inventory back to CSV\n",
        "def write_inventory(inventory):\n",
        "    with open(FILE_NAME, mode='w', newline='') as file:\n",
        "        writer = csv.DictWriter(file, fieldnames=['ID', 'Name', 'Category', 'Quantity', 'Price'])\n",
        "        writer.writeheader()\n",
        "        writer.writerows(inventory)\n",
        "\n",
        "# Add a product to the inventory\n",
        "def add_product(ID, name, category, quantity, price):\n",
        "    if quantity < 0:\n",
        "        print(\"Error: Quantity cannot be negative. Please enter a valid quantity.\")\n",
        "        return\n",
        "    if price < 0:\n",
        "        print(\"Error: Price cannot be negative. Please enter a valid price.\")\n",
        "        return\n",
        "    if not name.strip():\n",
        "        print(\"Error: Product name cannot be empty. Please enter a valid name.\")\n",
        "        return\n",
        "    inventory = read_inventory()\n",
        "    if any(product['ID'] == ID for product in inventory):\n",
        "        print(f\"Error: Product with ID {ID} already exists. Please use a unique ID.\")\n",
        "        return\n",
        "    inventory.append({\n",
        "        'ID': ID,\n",
        "        'Name': name,\n",
        "        'Category': category,\n",
        "        'Quantity': quantity,\n",
        "        'Price': price\n",
        "    })\n",
        "    write_inventory(inventory)\n",
        "    print(f\"Product {name} added successfully.\")\n",
        "\n",
        "# Delete a product from the inventory\n",
        "def delete_product(ID):\n",
        "    inventory = read_inventory()\n",
        "    updated_inventory = [product for product in inventory if product['ID'] != ID]\n",
        "    if len(updated_inventory) == len(inventory):\n",
        "        print(f\"Error: Product with ID {ID} not found.\")\n",
        "    else:\n",
        "        write_inventory(updated_inventory)\n",
        "        print(f\"Product with ID {ID} deleted successfully.\")\n",
        "\n",
        "# Update product information\n",
        "def update_product(ID, name=None, category=None, quantity=None, price=None):\n",
        "    inventory = read_inventory()\n",
        "    for product in inventory:\n",
        "        if product['ID'] == ID:\n",
        "            if name is not None:\n",
        "                product['Name'] = name\n",
        "            if category is not None:\n",
        "                product['Category'] = category\n",
        "            if quantity is not None:\n",
        "                if quantity < 0:\n",
        "                    print(\"Error: Quantity cannot be negative. Please enter a valid quantity.\")\n",
        "                    return\n",
        "                product['Quantity'] = quantity\n",
        "            if price is not None:\n",
        "                if price < 0:\n",
        "                    print(\"Error: Price cannot be negative. Please enter a valid price.\")\n",
        "                    return\n",
        "                product['Price'] = price\n",
        "            write_inventory(inventory)\n",
        "            print(f\"Product with ID {ID} updated successfully.\")\n",
        "            return\n",
        "    print(f\"Error: Product with ID {ID} not found.\")\n",
        "\n",
        "# Search product by ID\n",
        "def search_by_id(ID):\n",
        "    inventory = read_inventory()\n",
        "    for product in inventory:\n",
        "        if product['ID'] == ID:\n",
        "            return product\n",
        "    print(f\"Error: Product with ID {ID} not found.\")\n",
        "    return None\n",
        "\n",
        "# Search products by Category\n",
        "def search_by_category(category):\n",
        "    inventory = read_inventory()\n",
        "    matching_products = [product for product in inventory if product['Category'].lower() == category.lower()]\n",
        "    if not matching_products:\n",
        "        print(f\"No products found in category: {category}\")\n",
        "    return matching_products\n",
        "\n",
        "# Generate Report: Product Values and Category Breakdown\n",
        "def generate_report():\n",
        "    inventory = read_inventory()\n",
        "    total_value = 0\n",
        "    category_totals = {}\n",
        "    for product in inventory:\n",
        "        product_value = product['Quantity'] * product['Price']\n",
        "        total_value += product_value\n",
        "        category_totals[product['Category']] = category_totals.get(product['Category'], 0) + product_value\n",
        "    print(f\"Total Inventory Value: ${total_value:.2f}\")\n",
        "    print(\"Category Breakdown:\")\n",
        "    for category, value in category_totals.items():\n",
        "        print(f\"{category}: ${value:.2f}\")\n",
        "\n",
        "# Function to handle user input and validate numeric entries\n",
        "def safe_input(prompt, value_type):\n",
        "    while True:\n",
        "        try:\n",
        "            user_input = input(prompt)\n",
        "            if value_type == 'int':\n",
        "                return int(user_input)\n",
        "            elif value_type == 'float':\n",
        "                return float(user_input)\n",
        "            else:\n",
        "                return user_input\n",
        "        except ValueError:\n",
        "            print(f\"Invalid input. Please enter a valid {value_type}.\")\n",
        "\n",
        "# Main menu to interact with the system\n",
        "def main_menu():\n",
        "    initialize_inventory()  # Ensures the CSV file is created on first run\n",
        "    while True:\n",
        "        print(\"\\n--- Inventory Management System ---\")\n",
        "        print(\"1. Add Product\")\n",
        "        print(\"2. Delete Product\")\n",
        "        print(\"3. Update Product\")\n",
        "        print(\"4. Search by ID\")\n",
        "        print(\"5. Search by Category\")\n",
        "        print(\"6. Generate Report\")\n",
        "        print(\"7. Exit\")\n",
        "        choice = input(\"Enter your choice: \")\n",
        "        if choice == '1':\n",
        "            ID = safe_input(\"Enter product ID: \", 'int')\n",
        "            name = input(\"Enter product name: \")\n",
        "            category = input(\"Enter product category: \")\n",
        "            quantity = safe_input(\"Enter product quantity: \", 'int')\n",
        "            price = safe_input(\"Enter product price: \", 'float')\n",
        "            add_product(ID, name, category, quantity, price)\n",
        "        elif choice == '2':\n",
        "            ID = safe_input(\"Enter product ID to delete: \", 'int')\n",
        "            delete_product(ID)\n",
        "        elif choice == '3':\n",
        "            ID = safe_input(\"Enter product ID to update: \", 'int')\n",
        "            name = input(\"Enter new product name (leave blank to keep existing): \")\n",
        "            category = input(\"Enter new product category (leave blank to keep existing): \")\n",
        "            quantity = input(\"Enter new product quantity (leave blank to keep existing): \")\n",
        "            price = input(\"Enter new product price (leave blank to keep existing): \")\n",
        "            update_product(ID,\n",
        "                           name if name else None,\n",
        "                           category if category else None,\n",
        "                           int(quantity) if quantity else None,\n",
        "                           float(price) if price else None)\n",
        "        elif choice == '4':\n",
        "            ID = safe_input(\"Enter product ID to search: \", 'int')\n",
        "            product = search_by_id(ID)\n",
        "            if product:\n",
        "                print(f\"Product Found: {product}\")\n",
        "        elif choice == '5':\n",
        "            category = input(\"Enter category to search: \")\n",
        "            products = search_by_category(category)\n",
        "            if products:\n",
        "                for product in products:\n",
        "                    print(product)\n",
        "            else:\n",
        "                print(f\"No products found in category: {category}\")\n",
        "        elif choice == '6':\n",
        "            generate_report()\n",
        "        elif choice == '7':\n",
        "            print(\"Exiting program.\")\n",
        "            break\n",
        "        else:\n",
        "            print(\"Invalid choice, please try again.\")\n",
        "\n",
        "# Run the program\n",
        "if __name__ == \"__main__\":\n",
        "    main_menu()\n"
      ],
      "metadata": {
        "colab": {
          "base_uri": "https://localhost:8080/"
        },
        "id": "CesutqMdCAT1",
        "outputId": "3d3d7a74-65a7-4d09-f731-d0b97dcd9961"
      },
      "execution_count": null,
      "outputs": [
        {
          "output_type": "stream",
          "name": "stdout",
          "text": [
            "Inventory file found.\n",
            "\n",
            "--- Inventory Management System ---\n",
            "1. Add Product\n",
            "2. Delete Product\n",
            "3. Update Product\n",
            "4. Search by ID\n",
            "5. Search by Category\n",
            "6. Generate Report\n",
            "7. Exit\n",
            "Enter your choice: 6\n",
            "Total Inventory Value: $95625.00\n",
            "Category Breakdown:\n",
            "Category2: $15275.00\n",
            "Category3: $18375.00\n",
            "Category4: $21675.00\n",
            "Category5: $25175.00\n",
            "Category1: $15125.00\n",
            "\n",
            "--- Inventory Management System ---\n",
            "1. Add Product\n",
            "2. Delete Product\n",
            "3. Update Product\n",
            "4. Search by ID\n",
            "5. Search by Category\n",
            "6. Generate Report\n",
            "7. Exit\n",
            "Enter your choice: 1\n",
            "Enter product ID: 2\n",
            "Enter product name: jay\n",
            "Enter product category: cat1\n",
            "Enter product quantity: -9\n",
            "Enter product price: -9\n",
            "Error: Quantity cannot be negative. Please enter a valid quantity.\n",
            "\n",
            "--- Inventory Management System ---\n",
            "1. Add Product\n",
            "2. Delete Product\n",
            "3. Update Product\n",
            "4. Search by ID\n",
            "5. Search by Category\n",
            "6. Generate Report\n",
            "7. Exit\n",
            "Enter your choice: 7\n",
            "Exiting program.\n"
          ]
        }
      ]
    },
    {
      "cell_type": "markdown",
      "source": [],
      "metadata": {
        "id": "sGjzsno64Frq"
      }
    },
    {
      "cell_type": "markdown",
      "source": [],
      "metadata": {
        "id": "Avkm5Fpvlfff"
      }
    },
    {
      "cell_type": "markdown",
      "metadata": {
        "id": "290UJiNg2xES"
      },
      "source": [
        "# Question 7 (20 points)\n",
        "\n",
        "Create a well desined Python program for a flight booking system. Offer core functions for adding new flights, finding trips, reserving and releasing seating space and creating performance reports. Ensure the system manages edge cases like invalid input, overbooking, and cancellations. Finally, extend the booking system by including advanced features and maintain about 50 flight in the system."
      ]
    },
    {
      "cell_type": "code",
      "execution_count": null,
      "metadata": {
        "id": "dME5iWD53ADa",
        "colab": {
          "base_uri": "https://localhost:8080/"
        },
        "outputId": "e6908d66-af8e-47e3-c1fa-56008bf3a94a"
      },
      "outputs": [
        {
          "output_type": "stream",
          "name": "stdout",
          "text": [
            "\n",
            "Flight Management System\n",
            "1. View All Flights\n",
            "2. Add a New Flight\n",
            "3. Find Flights\n",
            "4. Reserve a Seat\n",
            "5. Release a Seat\n",
            "6. Update Flight Details\n",
            "7. Delete a Flight\n",
            "8. Exit\n",
            "Enter your choice: 8\n",
            "Exiting the system. Goodbye!\n"
          ]
        }
      ],
      "source": [
        "import csv\n",
        "\n",
        "FILE_PATH = \"flights_data.csv\"\n",
        "\n",
        "def load_flights():\n",
        "    flights = []\n",
        "    with open(FILE_PATH, mode='r') as file:\n",
        "        reader = csv.DictReader(file)\n",
        "        for row in reader:\n",
        "            flights.append({\n",
        "                'flight_number': int(row['flight_number']),\n",
        "                'departure': row['departure'],\n",
        "                'destination': row['destination'],\n",
        "                'departure_time': row['departure_time'],\n",
        "                'arrival_time': row['arrival_time'],\n",
        "                'total_seats': int(row['total_seats']),\n",
        "                'available_seats': int(row['total_seats']),\n",
        "                'price': float(row['price'])\n",
        "            })\n",
        "    return flights\n",
        "\n",
        "def save_flights(flights):\n",
        "    with open(FILE_PATH, mode='w', newline='') as file:\n",
        "        writer = csv.DictWriter(file, fieldnames=flights[0].keys())\n",
        "        writer.writeheader()\n",
        "        writer.writerows(flights)\n",
        "\n",
        "def add_flight(flights):\n",
        "    flight_number = int(input(\"Enter flight number: \"))\n",
        "    departure = input(\"Enter departure city: \")\n",
        "    destination = input(\"Enter destination city: \")\n",
        "    departure_time = input(\"Enter departure time: \")\n",
        "    arrival_time = input(\"Enter arrival time: \")\n",
        "    total_seats = int(input(\"Enter total seats: \"))\n",
        "    price = float(input(\"Enter ticket price: \"))\n",
        "\n",
        "    new_flight = {\n",
        "        'flight_number': flight_number,\n",
        "        'departure': departure,\n",
        "        'destination': destination,\n",
        "        'departure_time': departure_time,\n",
        "        'arrival_time': arrival_time,\n",
        "        'total_seats': total_seats,\n",
        "        'available_seats': total_seats,\n",
        "        'price': price\n",
        "    }\n",
        "    flights.append(new_flight)\n",
        "    save_flights(flights)\n",
        "    print(\"Flight added successfully!\")\n",
        "\n",
        "def find_flights(flights):\n",
        "    departure = input(\"Enter departure city: \")\n",
        "    destination = input(\"Enter destination city: \")\n",
        "    matching_flights = [flight for flight in flights if flight['departure'] == departure and flight['destination'] == destination]\n",
        "    for flight in matching_flights:\n",
        "        print(f\"Flight {flight['flight_number']} | {flight['departure']} -> {flight['destination']} | Seats Available: {flight['available_seats']} / {flight['total_seats']} | Price: ${flight['price']}\")\n",
        "\n",
        "def reserve_seat(flights):\n",
        "    flight_number = int(input(\"Enter flight number to reserve a seat: \"))\n",
        "    for flight in flights:\n",
        "        if flight['flight_number'] == flight_number:\n",
        "            flight['available_seats'] -= 1\n",
        "            save_flights(flights)\n",
        "            print(\"Seat reserved successfully!\")\n",
        "            return\n",
        "\n",
        "def release_seat(flights):\n",
        "    flight_number = int(input(\"Enter flight number to release a seat: \"))\n",
        "    for flight in flights:\n",
        "        if flight['flight_number'] == flight_number:\n",
        "            flight['available_seats'] += 1\n",
        "            save_flights(flights)\n",
        "            print(\"Seat released successfully!\")\n",
        "            return\n",
        "\n",
        "def update_flight(flights):\n",
        "    flight_number = int(input(\"Enter flight number to update: \"))\n",
        "    for flight in flights:\n",
        "        if flight['flight_number'] == flight_number:\n",
        "            flight['departure'] = input(\"Enter new departure city: \")\n",
        "            flight['destination'] = input(\"Enter new destination city: \")\n",
        "            flight['departure_time'] = input(\"Enter new departure time: \")\n",
        "            flight['arrival_time'] = input(\"Enter new arrival time: \")\n",
        "            flight['total_seats'] = int(input(\"Enter new total seats: \"))\n",
        "            flight['price'] = float(input(\"Enter new ticket price: \"))\n",
        "            save_flights(flights)\n",
        "            print(\"Flight updated successfully!\")\n",
        "            return\n",
        "\n",
        "def delete_flight(flights):\n",
        "    flight_number = int(input(\"Enter flight number to delete: \"))\n",
        "    for i, flight in enumerate(flights):\n",
        "        if flight['flight_number'] == flight_number:\n",
        "            del flights[i]\n",
        "            save_flights(flights)\n",
        "            print(\"Flight deleted successfully!\")\n",
        "            return\n",
        "\n",
        "def generate_report(flights):\n",
        "    for flight in flights:\n",
        "        print(f\"Flight {flight['flight_number']} | {flight['departure']} -> {flight['destination']} | Seats Available: {flight['available_seats']} / {flight['total_seats']} | Price: ${flight['price']}\")\n",
        "\n",
        "def main_menu():\n",
        "    flights = load_flights()\n",
        "    while True:\n",
        "        print(\"\\nFlight Management System\")\n",
        "        print(\"1. View All Flights\")\n",
        "        print(\"2. Add a New Flight\")\n",
        "        print(\"3. Find Flights\")\n",
        "        print(\"4. Reserve a Seat\")\n",
        "        print(\"5. Release a Seat\")\n",
        "        print(\"6. Update Flight Details\")\n",
        "        print(\"7. Delete a Flight\")\n",
        "        print(\"8. Exit\")\n",
        "        choice = input(\"Enter your choice: \")\n",
        "\n",
        "        if choice == '1':\n",
        "            generate_report(flights)\n",
        "        elif choice == '2':\n",
        "            add_flight(flights)\n",
        "        elif choice == '3':\n",
        "            find_flights(flights)\n",
        "        elif choice == '4':\n",
        "            reserve_seat(flights)\n",
        "        elif choice == '5':\n",
        "            release_seat(flights)\n",
        "        elif choice == '6':\n",
        "            update_flight(flights)\n",
        "        elif choice == '7':\n",
        "            delete_flight(flights)\n",
        "        elif choice == '8':\n",
        "            print(\"Exiting the system. Goodbye!\")\n",
        "            break\n",
        "        else:\n",
        "            print(\"Invalid choice. Please try again.\")\n",
        "\n",
        "if __name__ == \"__main__\":\n",
        "    main_menu()"
      ]
    },
    {
      "cell_type": "markdown",
      "source": [
        "Prompt: The above code accepts only integers for Flight numbers but in reality it is a combination of both string and number so give an edge case to handle this.\n",
        "\n",
        "Edge Case 1: Accepting combination of both string and integer for a flight number being accepted"
      ],
      "metadata": {
        "id": "bPktQq3IT5u2"
      }
    },
    {
      "cell_type": "code",
      "source": [
        "def add_flight(flights):\n",
        "    flight_number = input(\"Enter flight number: \")"
      ],
      "metadata": {
        "id": "BaHPwOCRUdzt"
      },
      "execution_count": null,
      "outputs": []
    },
    {
      "cell_type": "markdown",
      "source": [],
      "metadata": {
        "id": "FX_UZWpTd9LZ"
      }
    },
    {
      "cell_type": "markdown",
      "source": [
        "Prompt:Give me an edge case When the file is empty (the CSV file is missing or empty)\n",
        "\n",
        "Edge Case 2: Ensure the system gracefully handles an empty inventory without crashing."
      ],
      "metadata": {
        "id": "W_maY4pBgNTn"
      }
    },
    {
      "cell_type": "code",
      "source": [
        "def load_flights():\n",
        "    flights = []\n",
        "    try:\n",
        "        with open(FILE_PATH, mode='r') as file:\n",
        "            reader = csv.DictReader(file)\n",
        "            if not reader.fieldnames:  # Check if the file is empty\n",
        "                print(\"The flights data file is empty. Starting with an empty inventory.\")\n",
        "                return flights\n",
        "            for row in reader:\n",
        "                flights.append({\n",
        "                    'flight_number': row['flight_number'],\n",
        "                    'departure': row['departure'],\n",
        "                    'destination': row['destination'],\n",
        "                    'departure_time': row['departure_time'],\n",
        "                    'arrival_time': row['arrival_time'],\n",
        "                    'total_seats': int(row['total_seats']),\n",
        "                    'available_seats': int(row['total_seats']),\n",
        "                    'price': float(row['price'])\n",
        "                })\n",
        "    except FileNotFoundError:\n",
        "        print(\"No flights data file found.\")\n",
        "    return flights"
      ],
      "metadata": {
        "id": "_Sf5OddSghKY"
      },
      "execution_count": null,
      "outputs": []
    },
    {
      "cell_type": "markdown",
      "source": [
        "Prompt:There is apossibility of user entering a negative seat number so give an edge case by not allowing the user to put negative values\n",
        "\n",
        "Edge Case 3:Ensure the system gracefully handles an negative seat number efficiently"
      ],
      "metadata": {
        "id": "HzE7zW1qhnXl"
      }
    },
    {
      "cell_type": "code",
      "source": [
        "def add_flight(flights):\n",
        "    print(\"\\nAdd a New Flight\")\n",
        "    flight_number = input(\"Enter flight number (e.g., AA123): \")\n",
        "    departure = input(\"Enter departure city: \")\n",
        "    destination = input(\"Enter destination city: \")\n",
        "    departure_time = input(\"Enter departure time: \")\n",
        "    arrival_time = input(\"Enter arrival time: \")\n",
        "\n",
        "    # Validate total seats (must be a non-negative integer)\n",
        "    while True:\n",
        "        try:\n",
        "            total_seats = int(input(\"Enter total seats: \"))\n",
        "            if total_seats < 0:\n",
        "                print(\"Error: Total seats cannot be negative. Please enter a valid number.\")\n",
        "            else:\n",
        "                break\n",
        "        except ValueError:\n",
        "            print(\"Error: Please enter a valid integer for total seats.\")\n",
        "\n",
        "    price = float(input(\"Enter ticket price: \"))\n",
        "\n",
        "    new_flight = {\n",
        "        'flight_number': flight_number,\n",
        "        'departure': departure,\n",
        "        'destination': destination,\n",
        "        'departure_time': departure_time,\n",
        "        'arrival_time': arrival_time,\n",
        "        'total_seats': total_seats,\n",
        "        'available_seats': total_seats,  # Initialize available_seats to total_seats\n",
        "        'price': price\n",
        "    }\n",
        "    flights.append(new_flight)\n",
        "    save_flights(flights)\n",
        "    print(\"Flight added successfully!\")"
      ],
      "metadata": {
        "id": "G_zFAitKiOgc"
      },
      "execution_count": null,
      "outputs": []
    },
    {
      "cell_type": "markdown",
      "source": [
        "Prompt: Dont allow the users to book when the avilable seats are zero\n",
        "\n",
        "Edge case 4: Handling the edge case when the number of available seats are 0\n"
      ],
      "metadata": {
        "id": "HU82zI2TifbQ"
      }
    },
    {
      "cell_type": "code",
      "source": [
        "def reserve_seat(flights):\n",
        "    flight_number = input(\"Enter flight number to reserve a seat: \")\n",
        "    for flight in flights:\n",
        "        if flight['flight_number'] == flight_number:\n",
        "            if flight['available_seats'] > 0:\n",
        "                flight['available_seats'] -= 1\n",
        "                save_flights(flights)\n",
        "                print(\"Seat reserved successfully!\")\n",
        "            else:\n",
        "                print(\"Error: No available seats on this flight. The flight is full.\")\n",
        "            return\n",
        "    print(\"Error: Flight number not found.\")"
      ],
      "metadata": {
        "id": "lIvfwgN0i9KP"
      },
      "execution_count": null,
      "outputs": []
    },
    {
      "cell_type": "markdown",
      "source": [
        "Prompt: Releasing Seats on a Full Flight when the\n",
        "User tries to release a seat on a flight where available_seats already equals total_seats.\n",
        "\n",
        "Edge Case 5: The program should reject the release and notify the user that all seats are already available."
      ],
      "metadata": {
        "id": "rhhRclbXkJlh"
      }
    },
    {
      "cell_type": "code",
      "source": [
        "def release_seat(flights):\n",
        "    flight_number = input(\"Enter flight number to release a seat: \")\n",
        "    for flight in flights:\n",
        "        if flight['flight_number'] == flight_number:\n",
        "            if flight['available_seats'] < flight['total_seats']:\n",
        "                flight['available_seats'] += 1\n",
        "                save_flights(flights)\n",
        "                print(\"Seat released successfully!\")\n",
        "            else:\n",
        "                print(\"Error: All seats are already available. No seats to release.\")\n",
        "            return\n",
        "    print(\"Error: Flight number not found.\")"
      ],
      "metadata": {
        "id": "WFB5Q1zjkhXC"
      },
      "execution_count": null,
      "outputs": []
    },
    {
      "cell_type": "markdown",
      "source": [
        "Prompt:User tries to update a flight with a flight number that does not exist.\n",
        "\n",
        "Edge Case 6: The program should notify the user that the flight number was not found."
      ],
      "metadata": {
        "id": "_dQucF1SlFYP"
      }
    },
    {
      "cell_type": "code",
      "source": [
        "def update_flight(flights):\n",
        "    flight_number = input(\"Enter flight number to update: \")\n",
        "    for flight in flights:\n",
        "        if flight['flight_number'] == flight_number:\n",
        "            print(\"\\nCurrent Flight Details:\")\n",
        "            print(flight)\n",
        "            print(\"\\nEnter new details (leave blank to keep current value):\")\n",
        "            flight['departure'] = input(f\"Departure city ({flight['departure']}): \") or flight['departure']\n",
        "            flight['destination'] = input(f\"Destination city ({flight['destination']}): \") or flight['destination']\n",
        "            flight['departure_time'] = input(f\"Departure time ({flight['departure_time']}): \") or flight['departure_time']\n",
        "            flight['arrival_time'] = input(f\"Arrival time ({flight['arrival_time']}): \") or flight['arrival_time']\n",
        "            flight['total_seats'] = int(input(f\"Total seats ({flight['total_seats']}): \") or flight['total_seats'])\n",
        "            flight['price'] = float(input(f\"Ticket price (${flight['price']}): \") or flight['price'])\n",
        "            save_flights(flights)\n",
        "            print(\"Flight updated successfully!\")\n",
        "            return\n",
        "    print(\"Error: Flight number not found.\")"
      ],
      "metadata": {
        "id": "R_JCKfW4lOwf"
      },
      "execution_count": null,
      "outputs": []
    },
    {
      "cell_type": "markdown",
      "source": [
        "Prompt: User tries to delete a flight with a flight number that does not exist.\n",
        "\n",
        "Edge Case 7: The program should notify the user that the flight number was not found."
      ],
      "metadata": {
        "id": "awsqC3fqlhBh"
      }
    },
    {
      "cell_type": "code",
      "source": [
        "def delete_flight(flights):\n",
        "    flight_number = input(\"Enter flight number to delete: \")\n",
        "    for i, flight in enumerate(flights):\n",
        "        if flight['flight_number'] == flight_number:\n",
        "            del flights[i]\n",
        "            save_flights(flights)\n",
        "            print(\"Flight deleted successfully!\")\n",
        "            return\n",
        "    print(\"Error: Flight number not found.\")"
      ],
      "metadata": {
        "id": "v2YoN3E1l3MU"
      },
      "execution_count": null,
      "outputs": []
    },
    {
      "cell_type": "markdown",
      "source": [
        "Prompt:The code allows the user to enter an invalid or negative value for the ticket price.\n",
        "\n",
        "Edge Case 8: The program should reject invalid or negative prices and prompt the user to enter a valid value."
      ],
      "metadata": {
        "id": "nQZlW6TflQxt"
      }
    },
    {
      "cell_type": "code",
      "source": [
        "def add_flight(flights):\n",
        "    print(\"\\nAdd a New Flight\")\n",
        "    flight_number = input(\"Enter flight number (e.g., AA123): \")\n",
        "    departure = input(\"Enter departure city: \")\n",
        "    destination = input(\"Enter destination city: \")\n",
        "    departure_time = input(\"Enter departure time: \")\n",
        "    arrival_time = input(\"Enter arrival time: \")\n",
        "    total_seats = int(input(\"Enter total seats: \"))\n",
        "\n",
        "    # Validate ticket price\n",
        "    while True:\n",
        "        try:\n",
        "            price = float(input(\"Enter ticket price: \"))\n",
        "            if price < 0:\n",
        "                print(\"Error: Price cannot be negative. Please enter a valid amount.\")\n",
        "            else:\n",
        "                break\n",
        "        except ValueError:\n",
        "            print(\"Error: Please enter a valid number for the ticket price.\")\n",
        "\n",
        "    new_flight = {\n",
        "        'flight_number': flight_number,\n",
        "        'departure': departure,\n",
        "        'destination': destination,\n",
        "        'departure_time': departure_time,\n",
        "        'arrival_time': arrival_time,\n",
        "        'total_seats': total_seats,\n",
        "        'available_seats': total_seats,\n",
        "        'price': price\n",
        "    }\n",
        "    flights.append(new_flight)\n",
        "    save_flights(flights)\n",
        "    print(\"Flight added successfully!\")"
      ],
      "metadata": {
        "id": "WExpMF2PmZ_5"
      },
      "execution_count": null,
      "outputs": []
    },
    {
      "cell_type": "markdown",
      "source": [
        "Prompt:There is a possibility of user trying to add or update a flight with the same departure and destination city.\n",
        "\n",
        "Edge Case 9:The program should reject the addition or update and notify the user that the departure and destination cannot be the same."
      ],
      "metadata": {
        "id": "l5FOm31npKh2"
      }
    },
    {
      "cell_type": "code",
      "source": [
        "def add_flight(flights):\n",
        "    print(\"\\nAdd a New Flight\")\n",
        "    flight_number = input(\"Enter flight number (e.g., AA123): \")\n",
        "\n",
        "    # Validate departure and destination cities\n",
        "    while True:\n",
        "        departure = input(\"Enter departure city: \")\n",
        "        destination = input(\"Enter destination city: \")\n",
        "        if departure != destination:\n",
        "            break\n",
        "        else:\n",
        "            print(\"Error: Departure and destination cities cannot be the same. Please enter different cities.\")\n",
        "\n",
        "    departure_time = input(\"Enter departure time: \")\n",
        "    arrival_time = input(\"Enter arrival time: \")\n",
        "    total_seats = int(input(\"Enter total seats: \"))\n",
        "    price = float(input(\"Enter ticket price: \"))\n",
        "\n",
        "    new_flight = {\n",
        "        'flight_number': flight_number,\n",
        "        'departure': departure,\n",
        "        'destination': destination,\n",
        "        'departure_time': departure_time,\n",
        "        'arrival_time': arrival_time,\n",
        "        'total_seats': total_seats,\n",
        "        'available_seats': total_seats,\n",
        "        'price': price\n",
        "    }\n",
        "    flights.append(new_flight)\n",
        "    save_flights(flights)\n",
        "    print(\"Flight added successfully!\")"
      ],
      "metadata": {
        "id": "TyiZuykKpeFr"
      },
      "execution_count": null,
      "outputs": []
    },
    {
      "cell_type": "markdown",
      "source": [
        "Prompt:The user tries to add or update a flight with a flight number that has more than 6 characters so dont allow them to add characters more than 6\n",
        "\n",
        "Edge Case 10: The program should reject the input and notify the user that the flight number cannot exceed 6 characters."
      ],
      "metadata": {
        "id": "1siX2bHorM0Q"
      }
    },
    {
      "cell_type": "code",
      "source": [
        "def add_flight(flights):\n",
        "    print(\"\\nAdd a New Flight\")\n",
        "\n",
        "    # Validate flight number length\n",
        "    while True:\n",
        "        flight_number = input(\"Enter flight number (e.g., AA123): \")\n",
        "        if len(flight_number) <= 6:\n",
        "            break\n",
        "        else:\n",
        "            print(\"Error: Flight number cannot exceed 6 characters. Please try again.\")\n",
        "\n",
        "    departure = input(\"Enter departure city: \")\n",
        "    destination = input(\"Enter destination city: \")\n",
        "    departure_time = input(\"Enter departure time: \")\n",
        "    arrival_time = input(\"Enter arrival time: \")\n",
        "    total_seats = int(input(\"Enter total seats: \"))\n",
        "    price = float(input(\"Enter ticket price: \"))\n",
        "\n",
        "    new_flight = {\n",
        "        'flight_number': flight_number,\n",
        "        'departure': departure,\n",
        "        'destination': destination,\n",
        "        'departure_time': departure_time,\n",
        "        'arrival_time': arrival_time,\n",
        "        'total_seats': total_seats,\n",
        "        'available_seats': total_seats,\n",
        "        'price': price\n",
        "    }\n",
        "    flights.append(new_flight)\n",
        "    save_flights(flights)\n",
        "    print(\"Flight added successfully!\")\n",
        "\n",
        "    def update_flight(flights):\n",
        "    flight_number = input(\"Enter flight number to update: \")\n",
        "    for flight in flights:\n",
        "        if flight['flight_number'] == flight_number:\n",
        "            print(\"\\nCurrent Flight Details:\")\n",
        "            print(flight)\n",
        "            print(\"\\nEnter new details (leave blank to keep current value):\")\n",
        "\n",
        "            # Validate new flight number length\n",
        "            while True:\n",
        "                new_flight_number = input(f\"Flight number ({flight['flight_number']}): \") or flight['flight_number']\n",
        "                if len(new_flight_number) <= 6:\n",
        "                    break\n",
        "                else:\n",
        "                    print(\"Error: Flight number cannot exceed 6 characters. Please try again.\")\n",
        "\n",
        "            flight['flight_number'] = new_flight_number\n",
        "            flight['departure'] = input(f\"Departure city ({flight['departure']}): \") or flight['departure']\n",
        "            flight['destination'] = input(f\"Destination city ({flight['destination']}): \") or flight['destination']\n",
        "            flight['departure_time'] = input(f\"Departure time ({flight['departure_time']}): \") or flight['departure_time']\n",
        "            flight['arrival_time'] = input(f\"Arrival time ({flight['arrival_time']}): \") or flight['arrival_time']\n",
        "            flight['total_seats'] = int(input(f\"Total seats ({flight['total_seats']}): \") or flight['total_seats'])\n",
        "            flight['price'] = float(input(f\"Ticket price (${flight['price']}): \") or flight['price'])\n",
        "            save_flights(flights)\n",
        "            print(\"Flight updated successfully!\")\n",
        "            return\n",
        "    print(\"Error: Flight number not found.\")"
      ],
      "metadata": {
        "id": "JVSum8borfpR"
      },
      "execution_count": null,
      "outputs": []
    },
    {
      "cell_type": "markdown",
      "source": [
        "So the following code is an optimized version of the advanced progarm that implements all the above 10 Edge Cases\n"
      ],
      "metadata": {
        "id": "0QUnq43Qr1mR"
      }
    },
    {
      "cell_type": "code",
      "source": [
        "import csv\n",
        "\n",
        "FILE_PATH = \"flights_data.csv\"\n",
        "\n",
        "def load_flights():\n",
        "    flights = []\n",
        "    required_columns = [\n",
        "        'flight_number', 'departure', 'destination',\n",
        "        'departure_time', 'arrival_time', 'total_seats', 'price'\n",
        "    ]\n",
        "\n",
        "    try:\n",
        "        with open(FILE_PATH, mode='r') as file:\n",
        "            reader = csv.DictReader(file)\n",
        "            if not reader.fieldnames:  # Check if the file is empty\n",
        "                print(\"The flights data file is empty. Starting with an empty inventory.\")\n",
        "                return flights\n",
        "\n",
        "            # Check if all required columns are present\n",
        "            missing_columns = [col for col in required_columns if col not in reader.fieldnames]\n",
        "            if missing_columns:\n",
        "                print(f\"Error: The CSV file is missing required columns: {', '.join(missing_columns)}\")\n",
        "                print(\"Please fix the file or start with an empty inventory.\")\n",
        "                return flights\n",
        "\n",
        "            for row in reader:\n",
        "                flights.append({\n",
        "                    'flight_number': row['flight_number'],\n",
        "                    'departure': row['departure'],\n",
        "                    'destination': row['destination'],\n",
        "                    'departure_time': row['departure_time'],\n",
        "                    'arrival_time': row['arrival_time'],\n",
        "                    'total_seats': int(row['total_seats']),\n",
        "                    'available_seats': int(row['total_seats']),\n",
        "                    'price': float(row['price'])\n",
        "                })\n",
        "    except FileNotFoundError:\n",
        "        print(\"No flights data file found. Starting with an empty inventory.\")\n",
        "    return flights\n",
        "\n",
        "def save_flights(flights):\n",
        "    with open(FILE_PATH, mode='w', newline='') as file:\n",
        "        writer = csv.DictWriter(file, fieldnames=flights[0].keys())\n",
        "        writer.writeheader()\n",
        "        writer.writerows(flights)\n",
        "\n",
        "def add_flight(flights):\n",
        "    print(\"\\nAdd a New Flight\")\n",
        "\n",
        "    # Validate flight number length (Edge Case 10)\n",
        "    while True:\n",
        "        flight_number = input(\"Enter flight number (e.g., AA123): \")\n",
        "        if len(flight_number) <= 6:\n",
        "            break\n",
        "        else:\n",
        "            print(\"Error: Flight number cannot exceed 6 characters. Please try again.\")\n",
        "\n",
        "    # Validate departure and destination cities (Edge Case 9)\n",
        "    while True:\n",
        "        departure = input(\"Enter departure city: \")\n",
        "        destination = input(\"Enter destination city: \")\n",
        "        if departure != destination:\n",
        "            break\n",
        "        else:\n",
        "            print(\"Error: Departure and destination cities cannot be the same. Please enter different cities.\")\n",
        "\n",
        "    departure_time = input(\"Enter departure time: \")\n",
        "    arrival_time = input(\"Enter arrival time: \")\n",
        "\n",
        "    # Validate total seats (Edge Case 3)\n",
        "    while True:\n",
        "        try:\n",
        "            total_seats = int(input(\"Enter total seats: \"))\n",
        "            if total_seats < 0:\n",
        "                print(\"Error: Total seats cannot be negative. Please enter a valid number.\")\n",
        "            else:\n",
        "                break\n",
        "        except ValueError:\n",
        "            print(\"Error: Please enter a valid integer for total seats.\")\n",
        "\n",
        "    # Validate ticket price (Edge Case 8)\n",
        "    while True:\n",
        "        try:\n",
        "            price = float(input(\"Enter ticket price: \"))\n",
        "            if price < 0:\n",
        "                print(\"Error: Price cannot be negative. Please enter a valid amount.\")\n",
        "            else:\n",
        "                break\n",
        "        except ValueError:\n",
        "            print(\"Error: Please enter a valid number for the ticket price.\")\n",
        "\n",
        "    new_flight = {\n",
        "        'flight_number': flight_number,\n",
        "        'departure': departure,\n",
        "        'destination': destination,\n",
        "        'departure_time': departure_time,\n",
        "        'arrival_time': arrival_time,\n",
        "        'total_seats': total_seats,\n",
        "        'available_seats': total_seats,\n",
        "        'price': price\n",
        "    }\n",
        "    flights.append(new_flight)\n",
        "    save_flights(flights)\n",
        "    print(\"Flight added successfully!\")\n",
        "\n",
        "def find_flights(flights):\n",
        "    departure = input(\"Enter departure city: \")\n",
        "    destination = input(\"Enter destination city: \")\n",
        "    matching_flights = [flight for flight in flights if flight['departure'] == departure and flight['destination'] == destination]\n",
        "    if matching_flights:\n",
        "        print(\"\\nMatching Flights:\")\n",
        "        for flight in matching_flights:\n",
        "            print(f\"Flight {flight['flight_number']} | {flight['departure']} -> {flight['destination']} | Seats Available: {flight['available_seats']} / {flight['total_seats']} | Price: ${flight['price']}\")\n",
        "    else:\n",
        "        print(\"No flights found for the given route.\")\n",
        "\n",
        "def reserve_seat(flights):\n",
        "    flight_number = input(\"Enter flight number to reserve a seat: \")\n",
        "    for flight in flights:\n",
        "        if flight['flight_number'] == flight_number:\n",
        "            if flight['available_seats'] > 0:  # Edge Case 4\n",
        "                flight['available_seats'] -= 1\n",
        "                save_flights(flights)\n",
        "                print(\"Seat reserved successfully!\")\n",
        "            else:\n",
        "                print(\"Error: No available seats on this flight. The flight is full.\")\n",
        "            return\n",
        "    print(\"Error: Flight number not found.\")\n",
        "\n",
        "def release_seat(flights):\n",
        "    flight_number = input(\"Enter flight number to release a seat: \")\n",
        "    for flight in flights:\n",
        "        if flight['flight_number'] == flight_number:\n",
        "            if flight['available_seats'] < flight['total_seats']:  # Edge Case 5\n",
        "                flight['available_seats'] += 1\n",
        "                save_flights(flights)\n",
        "                print(\"Seat released successfully!\")\n",
        "            else:\n",
        "                print(\"Error: All seats are already available. No seats to release.\")\n",
        "            return\n",
        "    print(\"Error: Flight number not found.\")\n",
        "\n",
        "def update_flight(flights):\n",
        "    flight_number = input(\"Enter flight number to update: \")\n",
        "    for flight in flights:\n",
        "        if flight['flight_number'] == flight_number:\n",
        "            print(\"\\nCurrent Flight Details:\")\n",
        "            print(flight)\n",
        "            print(\"\\nEnter new details (leave blank to keep current value):\")\n",
        "\n",
        "            # Validate new flight number length (Edge Case 10)\n",
        "            while True:\n",
        "                new_flight_number = input(f\"Flight number ({flight['flight_number']}): \") or flight['flight_number']\n",
        "                if len(new_flight_number) <= 6:\n",
        "                    break\n",
        "                else:\n",
        "                    print(\"Error: Flight number cannot exceed 6 characters. Please try again.\")\n",
        "\n",
        "            flight['flight_number'] = new_flight_number\n",
        "            flight['departure'] = input(f\"Departure city ({flight['departure']}): \") or flight['departure']\n",
        "            flight['destination'] = input(f\"Destination city ({flight['destination']}): \") or flight['destination']\n",
        "            flight['departure_time'] = input(f\"Departure time ({flight['departure_time']}): \") or flight['departure_time']\n",
        "            flight['arrival_time'] = input(f\"Arrival time ({flight['arrival_time']}): \") or flight['arrival_time']\n",
        "            flight['total_seats'] = int(input(f\"Total seats ({flight['total_seats']}): \") or flight['total_seats'])\n",
        "            flight['price'] = float(input(f\"Ticket price (${flight['price']}): \") or flight['price'])\n",
        "            save_flights(flights)\n",
        "            print(\"Flight updated successfully!\")\n",
        "            return\n",
        "    print(\"Error: Flight number not found.\")  # Edge Case 6\n",
        "\n",
        "def delete_flight(flights):\n",
        "    flight_number = input(\"Enter flight number to delete: \")\n",
        "    for i, flight in enumerate(flights):\n",
        "        if flight['flight_number'] == flight_number:\n",
        "            del flights[i]\n",
        "            save_flights(flights)\n",
        "            print(\"Flight deleted successfully!\")\n",
        "            return\n",
        "    print(\"Error: Flight number not found.\")  # Edge Case 7\n",
        "\n",
        "def generate_report(flights):\n",
        "    print(\"\\nFlight Report:\")\n",
        "    for flight in flights:\n",
        "        print(f\"Flight {flight['flight_number']} | {flight['departure']} -> {flight['destination']} | Seats Available: {flight['available_seats']} / {flight['total_seats']} | Price: ${flight['price']}\")\n",
        "\n",
        "def main_menu():\n",
        "    flights = load_flights()\n",
        "    while True:\n",
        "        print(\"\\nFlight Management System\")\n",
        "        print(\"1. View All Flights\")\n",
        "        print(\"2. Add a New Flight\")\n",
        "        print(\"3. Find Flights\")\n",
        "        print(\"4. Reserve a Seat\")\n",
        "        print(\"5. Release a Seat\")\n",
        "        print(\"6. Update Flight Details\")\n",
        "        print(\"7. Delete a Flight\")\n",
        "        print(\"8. Exit\")\n",
        "        choice = input(\"Enter your choice: \")\n",
        "\n",
        "        if choice == '1':\n",
        "            generate_report(flights)\n",
        "        elif choice == '2':\n",
        "            add_flight(flights)\n",
        "        elif choice == '3':\n",
        "            find_flights(flights)\n",
        "        elif choice == '4':\n",
        "            reserve_seat(flights)\n",
        "        elif choice == '5':\n",
        "            release_seat(flights)\n",
        "        elif choice == '6':\n",
        "            update_flight(flights)\n",
        "        elif choice == '7':\n",
        "            delete_flight(flights)\n",
        "        elif choice == '8':\n",
        "            print(\"Exiting the system. Goodbye!\")\n",
        "            break\n",
        "        else:\n",
        "            print(\"Invalid choice. Please try again.\")\n",
        "\n",
        "if __name__ == \"__main__\":\n",
        "    main_menu()"
      ],
      "metadata": {
        "colab": {
          "base_uri": "https://localhost:8080/"
        },
        "id": "izKb0A_YsA7l",
        "outputId": "4e48b289-1c4d-4eed-9469-1c7b4b59cc12"
      },
      "execution_count": null,
      "outputs": [
        {
          "output_type": "stream",
          "name": "stdout",
          "text": [
            "\n",
            "Flight Management System\n",
            "1. View All Flights\n",
            "2. Add a New Flight\n",
            "3. Find Flights\n",
            "4. Reserve a Seat\n",
            "5. Release a Seat\n",
            "6. Update Flight Details\n",
            "7. Delete a Flight\n",
            "8. Exit\n",
            "Enter your choice: 1\n",
            "\n",
            "Flight Report:\n",
            "Flight 1001 | Dallas -> New York | Seats Available: 180 / 180 | Price: $250.0\n",
            "Flight 1002 | Los Angeles -> Chicago | Seats Available: 200 / 200 | Price: $300.0\n",
            "Flight 1003 | Houston -> Miami | Seats Available: 150 / 150 | Price: $220.0\n",
            "Flight 1004 | Denver -> Las Vegas | Seats Available: 220 / 220 | Price: $180.0\n",
            "Flight 1005 | Boston -> San Francisco | Seats Available: 190 / 190 | Price: $350.0\n",
            "Flight 1006 | Seattle -> Phoenix | Seats Available: 170 / 170 | Price: $270.0\n",
            "Flight 1007 | Atlanta -> Orlando | Seats Available: 160 / 160 | Price: $200.0\n",
            "Flight 1008 | San Diego -> Dallas | Seats Available: 200 / 200 | Price: $280.0\n",
            "Flight 1009 | Honolulu -> Los Angeles | Seats Available: 180 / 180 | Price: $400.0\n",
            "Flight 1010 | Las Vegas -> Seattle | Seats Available: 140 / 140 | Price: $190.0\n",
            "Flight 1011 | New York -> Dallas | Seats Available: 180 / 180 | Price: $250.0\n",
            "Flight 1012 | Chicago -> Los Angeles | Seats Available: 200 / 200 | Price: $300.0\n",
            "Flight 1013 | Miami -> Houston | Seats Available: 150 / 150 | Price: $220.0\n",
            "Flight 1014 | Las Vegas -> Denver | Seats Available: 220 / 220 | Price: $180.0\n",
            "Flight 1015 | San Francisco -> Boston | Seats Available: 190 / 190 | Price: $350.0\n",
            "Flight 1016 | Phoenix -> Seattle | Seats Available: 170 / 170 | Price: $270.0\n",
            "Flight 1017 | Orlando -> Atlanta | Seats Available: 160 / 160 | Price: $200.0\n",
            "Flight 1018 | Dallas -> San Diego | Seats Available: 200 / 200 | Price: $280.0\n",
            "Flight 1019 | Los Angeles -> Honolulu | Seats Available: 180 / 180 | Price: $400.0\n",
            "Flight 1020 | Seattle -> Las Vegas | Seats Available: 140 / 140 | Price: $190.0\n",
            "Flight 1021 | Washington -> Chicago | Seats Available: 180 / 180 | Price: $250.0\n",
            "Flight 1022 | San Jose -> Denver | Seats Available: 200 / 200 | Price: $300.0\n",
            "Flight 1023 | Houston -> San Francisco | Seats Available: 150 / 150 | Price: $220.0\n",
            "Flight 1024 | Las Vegas -> Orlando | Seats Available: 220 / 220 | Price: $180.0\n",
            "Flight 1025 | Boston -> Chicago | Seats Available: 190 / 190 | Price: $350.0\n",
            "Flight 1026 | Seattle -> New York | Seats Available: 170 / 170 | Price: $270.0\n",
            "Flight 1027 | Los Angeles -> Dallas | Seats Available: 160 / 160 | Price: $200.0\n",
            "Flight 1028 | Denver -> San Diego | Seats Available: 200 / 200 | Price: $280.0\n",
            "Flight 1029 | San Francisco -> Honolulu | Seats Available: 180 / 180 | Price: $400.0\n",
            "Flight 1030 | Las Vegas -> Houston | Seats Available: 140 / 140 | Price: $190.0\n",
            "Flight 1031 | Austin -> Denver | Seats Available: 160 / 160 | Price: $230.0\n",
            "Flight 1032 | Philadelphia -> Miami | Seats Available: 170 / 170 | Price: $250.0\n",
            "Flight 1033 | Portland -> Dallas | Seats Available: 180 / 180 | Price: $290.0\n",
            "Flight 1034 | Minneapolis -> San Diego | Seats Available: 190 / 190 | Price: $310.0\n",
            "Flight 1035 | Detroit -> Phoenix | Seats Available: 200 / 200 | Price: $270.0\n",
            "Flight 1036 | Charlotte -> Seattle | Seats Available: 180 / 180 | Price: $320.0\n",
            "Flight 1037 | San Antonio -> Chicago | Seats Available: 170 / 170 | Price: $260.0\n",
            "Flight 1038 | Indianapolis -> New York | Seats Available: 160 / 160 | Price: $280.0\n",
            "Flight 1039 | Columbus -> Los Angeles | Seats Available: 200 / 200 | Price: $330.0\n",
            "Flight 1040 | Kansas City -> San Francisco | Seats Available: 190 / 190 | Price: $340.0\n",
            "Flight 1041 | Salt Lake City -> Houston | Seats Available: 180 / 180 | Price: $270.0\n",
            "Flight 1042 | Baltimore -> Las Vegas | Seats Available: 170 / 170 | Price: $310.0\n",
            "Flight 1043 | Nashville -> Boston | Seats Available: 160 / 160 | Price: $280.0\n",
            "Flight 1044 | Louisville -> Denver | Seats Available: 200 / 200 | Price: $250.0\n",
            "Flight 1045 | Milwaukee -> Orlando | Seats Available: 180 / 180 | Price: $270.0\n",
            "Flight 1046 | Oklahoma City -> Phoenix | Seats Available: 190 / 190 | Price: $260.0\n",
            "Flight 1047 | Hartford -> Chicago | Seats Available: 170 / 170 | Price: $240.0\n",
            "Flight 1048 | Raleigh -> San Diego | Seats Available: 160 / 160 | Price: $290.0\n",
            "Flight 1049 | Richmond -> Seattle | Seats Available: 180 / 180 | Price: $310.0\n",
            "Flight 1050 | Birmingham -> New York | Seats Available: 190 / 190 | Price: $330.0\n",
            "\n",
            "Flight Management System\n",
            "1. View All Flights\n",
            "2. Add a New Flight\n",
            "3. Find Flights\n",
            "4. Reserve a Seat\n",
            "5. Release a Seat\n",
            "6. Update Flight Details\n",
            "7. Delete a Flight\n",
            "8. Exit\n",
            "Enter your choice: 8\n",
            "Exiting the system. Goodbye!\n"
          ]
        }
      ]
    },
    {
      "cell_type": "markdown",
      "metadata": {
        "id": "q8BFCvWp32cf"
      },
      "source": [
        "# Mandatory Question\n",
        "\n",
        "Provide your thoughts on the assignment. What did you find challenging, and what aspects did you enjoy? Your opinion on the provided time to complete the assignment. Share any suggestions for improvement. Your feedback will be valuable for enhancing the learning experience."
      ]
    },
    {
      "cell_type": "code",
      "execution_count": null,
      "metadata": {
        "id": "_e557s2w4BpK"
      },
      "outputs": [],
      "source": [
        "# Write your response below"
      ]
    },
    {
      "cell_type": "markdown",
      "source": [
        "The first three tasks were simple, but the fourth and fifth required practice. Regarding issues six and seven, I found the sixth one particularly difficult because I was unfamiliar with the pattern and it took a while to identify the mistakes, which was both unpleasant and enjoyable. However, the seventh question didn't take me long because I had some practice. The questions in the second section ranged in difficulty from easy to hard. I believe there was enough time to respond to the inquiries.All things considered, I thought the job was a little distinct from the typical kind."
      ],
      "metadata": {
        "id": "_fRmKnm2urea"
      }
    }
  ],
  "metadata": {
    "colab": {
      "provenance": [],
      "toc_visible": true,
      "include_colab_link": true
    },
    "kernelspec": {
      "display_name": "Python 3 (ipykernel)",
      "language": "python",
      "name": "python3"
    },
    "language_info": {
      "codemirror_mode": {
        "name": "ipython",
        "version": 3
      },
      "file_extension": ".py",
      "mimetype": "text/x-python",
      "name": "python",
      "nbconvert_exporter": "python",
      "pygments_lexer": "ipython3",
      "version": "3.9.12"
    }
  },
  "nbformat": 4,
  "nbformat_minor": 0
}